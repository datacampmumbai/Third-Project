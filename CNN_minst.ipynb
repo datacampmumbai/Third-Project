{
  "nbformat": 4,
  "nbformat_minor": 0,
  "metadata": {
    "colab": {
      "name": "CNN_minst.ipynb",
      "version": "0.3.2",
      "provenance": [],
      "collapsed_sections": []
    },
    "kernelspec": {
      "name": "python3",
      "display_name": "Python 3"
    },
    "accelerator": "GPU"
  },
  "cells": [
    {
      "metadata": {
        "id": "MCI4PVqmJeEl",
        "colab_type": "code",
        "outputId": "47d87f1a-0f16-45c5-f298-92976d2cff90",
        "colab": {
          "base_uri": "https://localhost:8080/",
          "height": 823
        }
      },
      "cell_type": "code",
      "source": [
        "from keras.datasets import mnist\n",
        "\n",
        "(x_train, y_train), (x_test, y_test) = mnist.load_data()\n",
        "\n",
        "import matplotlib.pyplot as plt\n",
        "#plot the first image in the dataset\n",
        "\n",
        "plt.imshow(x_train[0])\n",
        "\n",
        "x_train.shape\n",
        "x_test.shape\n",
        "\n",
        "##Reshape the image to 16x16 and to grayscale\n",
        "X_train=x_train.reshape(60000,28,28,1)\n",
        "X_test=x_test.reshape(10000,28,28,1)\n",
        "\n",
        "from keras.utils import to_categorical\n",
        "\n",
        "Y_train=to_categorical(y_train)\n",
        "Y_test=to_categorical(y_test)\n",
        "\n",
        "Y_train.shape\n",
        "Y_test.shape\n",
        "\n",
        "from keras.models import Sequential\n",
        "from keras.layers import Dense, Conv2D, Flatten, Dropout, BatchNormalization\n",
        "\n",
        "##Initialise Sequential model\n",
        "model = Sequential()\n",
        "\n",
        "\n",
        "img_rows=28\n",
        "img_cols=28\n",
        "# Add a convolutional layer\n",
        "model.add(Conv2D(64, kernel_size=3, activation='relu', \n",
        "                 input_shape=(img_rows, img_cols, 1), padding=\"same\", strides=1))\n",
        "\n",
        "# Add a dropout layer\n",
        "model.add(Dropout(0.2))\n",
        "\n",
        "# Add another convolutional layer\n",
        "model.add(Conv2D(32, kernel_size=3, activation='relu'))\n",
        "\n",
        "# Flatten and feed to output layer\n",
        "model.add(Flatten())\n",
        "model.add(Dense(10, activation='softmax'))\n",
        "model.summary()\n",
        "\n",
        "# Compile the model\n",
        "model.compile(optimizer=\"adam\", \n",
        "           loss=\"categorical_crossentropy\", \n",
        "           metrics=['accuracy'])\n",
        "\n",
        "#train the model\n",
        "model.fit(X_train, Y_train, validation_split=0.2, epochs=3)\n",
        "\n",
        "# Evaluate the model\n",
        "accTest=model.evaluate(X_test, Y_test)\n",
        "print('Test set\\n  Loss: {:0.3f}\\n  Accuracy: {:0.3f}'.format(accTest[0],accTest[1]))\n",
        "\n"
      ],
      "execution_count": 3,
      "outputs": [
        {
          "output_type": "stream",
          "text": [
            "_________________________________________________________________\n",
            "Layer (type)                 Output Shape              Param #   \n",
            "=================================================================\n",
            "conv2d_3 (Conv2D)            (None, 28, 28, 64)        640       \n",
            "_________________________________________________________________\n",
            "dropout_2 (Dropout)          (None, 28, 28, 64)        0         \n",
            "_________________________________________________________________\n",
            "conv2d_4 (Conv2D)            (None, 26, 26, 32)        18464     \n",
            "_________________________________________________________________\n",
            "flatten_2 (Flatten)          (None, 21632)             0         \n",
            "_________________________________________________________________\n",
            "dense_2 (Dense)              (None, 10)                216330    \n",
            "=================================================================\n",
            "Total params: 235,434\n",
            "Trainable params: 235,434\n",
            "Non-trainable params: 0\n",
            "_________________________________________________________________\n",
            "Train on 48000 samples, validate on 12000 samples\n",
            "Epoch 1/3\n",
            "48000/48000 [==============================] - 16s 342us/step - loss: 5.3816 - acc: 0.6489 - val_loss: 0.1819 - val_acc: 0.9501\n",
            "Epoch 2/3\n",
            "48000/48000 [==============================] - 16s 337us/step - loss: 0.1121 - acc: 0.9675 - val_loss: 0.0856 - val_acc: 0.9730\n",
            "Epoch 3/3\n",
            "48000/48000 [==============================] - 16s 336us/step - loss: 0.0668 - acc: 0.9795 - val_loss: 0.0813 - val_acc: 0.9778\n",
            "10000/10000 [==============================] - 1s 96us/step\n",
            "Test set\n",
            "  Loss: 0.092\n",
            "  Accuracy: 0.974\n"
          ],
          "name": "stdout"
        },
        {
          "output_type": "display_data",
          "data": {
            "image/png": "[encoded data removed]",
            "text/plain": [
              "<matplotlib.figure.Figure at 0x7fbfbb883978>"
            ]
          },
          "metadata": {
            "tags": []
          }
        }
      ]
    },
    {
      "metadata": {
        "id": "KH7aReDjRVbs",
        "colab_type": "code",
        "colab": {}
      },
      "cell_type": "code",
      "source": [
        ""
      ],
      "execution_count": 0,
      "outputs": []
    },
    {
      "metadata": {
        "id": "_suSfjxqRVmh",
        "colab_type": "code",
        "colab": {}
      },
      "cell_type": "code",
      "source": [
        ""
      ],
      "execution_count": 0,
      "outputs": []
    },
    {
      "metadata": {
        "id": "B2bmZu04RVux",
        "colab_type": "code",
        "colab": {}
      },
      "cell_type": "code",
      "source": [
        ""
      ],
      "execution_count": 0,
      "outputs": []
    },
    {
      "metadata": {
        "id": "S9vEpsQqRVyg",
        "colab_type": "code",
        "colab": {}
      },
      "cell_type": "code",
      "source": [
        ""
      ],
      "execution_count": 0,
      "outputs": []
    },
    {
      "metadata": {
        "id": "pF84vX1qRV17",
        "colab_type": "code",
        "colab": {}
      },
      "cell_type": "code",
      "source": [
        ""
      ],
      "execution_count": 0,
      "outputs": []
    },
    {
      "metadata": {
        "id": "fn4tRPdQRV5A",
        "colab_type": "code",
        "colab": {}
      },
      "cell_type": "code",
      "source": [
        ""
      ],
      "execution_count": 0,
      "outputs": []
    },
    {
      "metadata": {
        "id": "XFKSTdKoRV8T",
        "colab_type": "code",
        "colab": {}
      },
      "cell_type": "code",
      "source": [
        ""
      ],
      "execution_count": 0,
      "outputs": []
    },
    {
      "metadata": {
        "id": "tUa94QhmRWAf",
        "colab_type": "code",
        "colab": {}
      },
      "cell_type": "code",
      "source": [
        ""
      ],
      "execution_count": 0,
      "outputs": []
    },
    {
      "metadata": {
        "id": "g8D5z0-ARWDL",
        "colab_type": "code",
        "colab": {}
      },
      "cell_type": "code",
      "source": [
        ""
      ],
      "execution_count": 0,
      "outputs": []
    }
  ]
}