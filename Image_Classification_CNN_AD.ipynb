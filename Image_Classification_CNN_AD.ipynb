{
  "nbformat": 4,
  "nbformat_minor": 0,
  "metadata": {
    "colab": {
      "name": "Image_Classification_CNN.ipynb",
      "version": "0.3.2",
      "provenance": [],
      "collapsed_sections": []
    },
    "kernelspec": {
      "name": "python3",
      "display_name": "Python 3"
    },
    "accelerator": "GPU"
  },
  "cells": [
    {
      "metadata": {
        "id": "wy8W_2e-bOo3",
        "colab_type": "text"
      },
      "cell_type": "markdown",
      "source": [
        "**Objective: ** Train a computer system to first understand what are handwritten images of digits an then test the system to predict new handwritten images correctly. We will feed our system with MNIST dataset and test it with random images to check the accuracy of its predictions."
      ]
    },
    {
      "metadata": {
        "id": "UlIPp8dobd8R",
        "colab_type": "text"
      },
      "cell_type": "markdown",
      "source": [
        "**Importing Tensorflow & MNIST data**"
      ]
    },
    {
      "metadata": {
        "id": "vFUARJHeFB60",
        "colab_type": "code",
        "colab": {}
      },
      "cell_type": "code",
      "source": [
        "#Importing tensorflow\n",
        "import tensorflow as tf"
      ],
      "execution_count": 0,
      "outputs": []
    },
    {
      "metadata": {
        "id": "hm56niAJFB-o",
        "colab_type": "code",
        "colab": {
          "base_uri": "https://localhost:8080/",
          "height": 530
        },
        "outputId": "9129df3b-db20-45d9-dd60-4ed79f09a683"
      },
      "cell_type": "code",
      "source": [
        "#Importing MNIST Dataset\n",
        "from tensorflow.examples.tutorials.mnist import input_data\n",
        "mnist = input_data.read_data_sets(\"MNIST_data/\", one_hot=True)"
      ],
      "execution_count": 2,
      "outputs": [
        {
          "output_type": "stream",
          "text": [
            "WARNING:tensorflow:From <ipython-input-2-8bf8ae5a5303>:2: read_data_sets (from tensorflow.contrib.learn.python.learn.datasets.mnist) is deprecated and will be removed in a future version.\n",
            "Instructions for updating:\n",
            "Please use alternatives such as official/mnist/dataset.py from tensorflow/models.\n",
            "WARNING:tensorflow:From /usr/local/lib/python3.6/dist-packages/tensorflow/contrib/learn/python/learn/datasets/mnist.py:260: maybe_download (from tensorflow.contrib.learn.python.learn.datasets.base) is deprecated and will be removed in a future version.\n",
            "Instructions for updating:\n",
            "Please write your own downloading logic.\n",
            "WARNING:tensorflow:From /usr/local/lib/python3.6/dist-packages/tensorflow/contrib/learn/python/learn/datasets/base.py:252: _internal_retry.<locals>.wrap.<locals>.wrapped_fn (from tensorflow.contrib.learn.python.learn.datasets.base) is deprecated and will be removed in a future version.\n",
            "Instructions for updating:\n",
            "Please use urllib or similar directly.\n",
            "Successfully downloaded train-images-idx3-ubyte.gz 9912422 bytes.\n",
            "WARNING:tensorflow:From /usr/local/lib/python3.6/dist-packages/tensorflow/contrib/learn/python/learn/datasets/mnist.py:262: extract_images (from tensorflow.contrib.learn.python.learn.datasets.mnist) is deprecated and will be removed in a future version.\n",
            "Instructions for updating:\n",
            "Please use tf.data to implement this functionality.\n",
            "Extracting MNIST_data/train-images-idx3-ubyte.gz\n",
            "Successfully downloaded train-labels-idx1-ubyte.gz 28881 bytes.\n",
            "WARNING:tensorflow:From /usr/local/lib/python3.6/dist-packages/tensorflow/contrib/learn/python/learn/datasets/mnist.py:267: extract_labels (from tensorflow.contrib.learn.python.learn.datasets.mnist) is deprecated and will be removed in a future version.\n",
            "Instructions for updating:\n",
            "Please use tf.data to implement this functionality.\n",
            "Extracting MNIST_data/train-labels-idx1-ubyte.gz\n",
            "WARNING:tensorflow:From /usr/local/lib/python3.6/dist-packages/tensorflow/contrib/learn/python/learn/datasets/mnist.py:110: dense_to_one_hot (from tensorflow.contrib.learn.python.learn.datasets.mnist) is deprecated and will be removed in a future version.\n",
            "Instructions for updating:\n",
            "Please use tf.one_hot on tensors.\n",
            "Successfully downloaded t10k-images-idx3-ubyte.gz 1648877 bytes.\n",
            "Extracting MNIST_data/t10k-images-idx3-ubyte.gz\n",
            "Successfully downloaded t10k-labels-idx1-ubyte.gz 4542 bytes.\n",
            "Extracting MNIST_data/t10k-labels-idx1-ubyte.gz\n",
            "WARNING:tensorflow:From /usr/local/lib/python3.6/dist-packages/tensorflow/contrib/learn/python/learn/datasets/mnist.py:290: DataSet.__init__ (from tensorflow.contrib.learn.python.learn.datasets.mnist) is deprecated and will be removed in a future version.\n",
            "Instructions for updating:\n",
            "Please use alternatives such as official/mnist/dataset.py from tensorflow/models.\n"
          ],
          "name": "stdout"
        }
      ]
    },
    {
      "metadata": {
        "id": "1LAqKWgQbvj8",
        "colab_type": "text"
      },
      "cell_type": "markdown",
      "source": [
        "Placeholders are different from variables. They are parameters which are created to hold the training data in this case it would be training images. "
      ]
    },
    {
      "metadata": {
        "id": "DVMF2qtDFCDc",
        "colab_type": "code",
        "colab": {}
      },
      "cell_type": "code",
      "source": [
        "#Creating placeholders\n",
        "x = tf.placeholder(tf.float32, [None, 784])"
      ],
      "execution_count": 0,
      "outputs": []
    },
    {
      "metadata": {
        "id": "Og9_8twOb10N",
        "colab_type": "text"
      },
      "cell_type": "markdown",
      "source": [
        "**Weights and Biases:**\n",
        "\n",
        "The initial values are set to zeros for Weight and Bias because it is going to be changed when the computation happens. Thus, it does not matter what are the initial values. ‘w’ is of (784 * 10) shape because 784 features and 10 outputs are present. ‘b’ is of the shape 10 because there are 10 outputs from 0 till 9 (digits).\n",
        "\n"
      ]
    },
    {
      "metadata": {
        "id": "s9SvVOxGFCI2",
        "colab_type": "code",
        "colab": {}
      },
      "cell_type": "code",
      "source": [
        "#Creating weights and biases\n",
        "w = tf.Variable(tf.zeros([784,10]))\n",
        "b = tf.Variable(tf.zeros([10]))"
      ],
      "execution_count": 0,
      "outputs": []
    },
    {
      "metadata": {
        "id": "_95bF0zub_m1",
        "colab_type": "text"
      },
      "cell_type": "markdown",
      "source": [
        "**Prediction Model:**\n",
        "\n",
        "x and w are matrices which are multiplied and added to a bias. The softmax function takes values and makes the total to be 1. This way it can be used as probability values making it uniform to judge which digit (0 -9) has higher chances of being predicted."
      ]
    },
    {
      "metadata": {
        "id": "GxmzD1geFCL7",
        "colab_type": "code",
        "colab": {}
      },
      "cell_type": "code",
      "source": [
        "#Model\n",
        "y = tf.nn.softmax(tf.matmul(x,w) + b)"
      ],
      "execution_count": 0,
      "outputs": []
    },
    {
      "metadata": {
        "id": "aEErwreIFCr7",
        "colab_type": "code",
        "colab": {}
      },
      "cell_type": "code",
      "source": [
        "#Training Our Model\n",
        "y_ = tf.placeholder(tf.float32, [None,10])"
      ],
      "execution_count": 0,
      "outputs": []
    },
    {
      "metadata": {
        "id": "9KSnORNscJ9r",
        "colab_type": "text"
      },
      "cell_type": "markdown",
      "source": [
        "**Cross-Entropy function:**\n",
        "\n",
        "The cross-entropy function is a cost or loss function. It compares the true values to the predicted values. The goal is to minimize the loss."
      ]
    },
    {
      "metadata": {
        "id": "xpdgrOmPFCur",
        "colab_type": "code",
        "colab": {}
      },
      "cell_type": "code",
      "source": [
        "#cross entropy function\n",
        "cross_entropy = tf.reduce_mean(-tf.reduce_sum(y_ * tf.log(y), reduction_indices=[1]))"
      ],
      "execution_count": 0,
      "outputs": []
    },
    {
      "metadata": {
        "id": "dYXlCTIJcOR6",
        "colab_type": "text"
      },
      "cell_type": "markdown",
      "source": [
        "**Gradient Descent Optimizer:**\n",
        "\n",
        "When a model graph is formed using the cross-entropy function, we would want to find a point where the loss is at the minimum. This is done using the Gradient Descent optimizer. It moves towards the part of the graph where the value of the graph is lesser. The steps or the learning rate can be set manually. If a very small learning rate like 0.001 is set it would take forever for the system to reach to the point where loss is minimum but it would be more accurate. If the learning is rate is set high then the system might produce quick but false results a false results.\n",
        "\n"
      ]
    },
    {
      "metadata": {
        "id": "86wVS8tLFCGq",
        "colab_type": "code",
        "colab": {}
      },
      "cell_type": "code",
      "source": [
        "train_step = tf.train.GradientDescentOptimizer(0.5).minimize(cross_entropy)"
      ],
      "execution_count": 0,
      "outputs": []
    },
    {
      "metadata": {
        "id": "UYbjOPfVFCB5",
        "colab_type": "code",
        "colab": {}
      },
      "cell_type": "code",
      "source": [
        "init = tf.global_variables_initializer()\n",
        "# Variables are not initialized on their own. The above command is needed to initialize them."
      ],
      "execution_count": 0,
      "outputs": []
    },
    {
      "metadata": {
        "id": "ZUK4BelucXOV",
        "colab_type": "text"
      },
      "cell_type": "markdown",
      "source": [
        "**Training model:**\n",
        "\n",
        "Here, we are training our model to learn the MNIST data in batches of 100."
      ]
    },
    {
      "metadata": {
        "id": "BPrE7_0sX90i",
        "colab_type": "code",
        "colab": {}
      },
      "cell_type": "code",
      "source": [
        "#interactive session:\n",
        "sess = tf.Session()\n",
        "sess.run(init) # reset values to incorrect defaults."
      ],
      "execution_count": 0,
      "outputs": []
    },
    {
      "metadata": {
        "id": "SuJmFcKXX-Zy",
        "colab_type": "code",
        "colab": {}
      },
      "cell_type": "code",
      "source": [
        "for i in range(100):\n",
        "    batch_xs, batch_ys = mnist.train.next_batch(100)\n",
        "    sess.run(train_step, feed_dict={x : batch_xs, y_: batch_ys})"
      ],
      "execution_count": 0,
      "outputs": []
    },
    {
      "metadata": {
        "id": "p3Z-LZkeccR1",
        "colab_type": "text"
      },
      "cell_type": "markdown",
      "source": [
        "**Evaluating and Testing the model:**\n",
        "\n",
        "Here, the model is evaluated and tested with accuracy of 0.8916. tf.argmax gives the highest value in one axis. So, y_ are the correct values and y are the predicted values. tf.equal is used to find if they are equal or not."
      ]
    },
    {
      "metadata": {
        "id": "SKm9xNMHX-f8",
        "colab_type": "code",
        "colab": {}
      },
      "cell_type": "code",
      "source": [
        "#Evaluating the model:\n",
        "prediction = tf.equal(tf.argmax(y,1), tf.argmax(y_,1))"
      ],
      "execution_count": 0,
      "outputs": []
    },
    {
      "metadata": {
        "id": "EM2G4RgrX-eU",
        "colab_type": "code",
        "colab": {}
      },
      "cell_type": "code",
      "source": [
        "#Accuracy\n",
        "accuracy = tf.reduce_mean(tf.cast(prediction, tf.float32))"
      ],
      "execution_count": 0,
      "outputs": []
    },
    {
      "metadata": {
        "id": "ib7qIv63YeXx",
        "colab_type": "code",
        "colab": {
          "base_uri": "https://localhost:8080/",
          "height": 34
        },
        "outputId": "5a981417-56aa-42af-c7a7-ec7727101f18"
      },
      "cell_type": "code",
      "source": [
        "print(sess.run(accuracy, feed_dict={x: mnist.test.images, y_: mnist.test.labels}))"
      ],
      "execution_count": 14,
      "outputs": [
        {
          "output_type": "stream",
          "text": [
            "0.8954\n"
          ],
          "name": "stdout"
        }
      ]
    },
    {
      "metadata": {
        "id": "ZAFKLbiWcnMb",
        "colab_type": "text"
      },
      "cell_type": "markdown",
      "source": [
        "**Multi-Convolutional Layer:**\n",
        "\n",
        "Here, we are using more layers, weights and biases to refine our model and increase accuracy.\n",
        "\n",
        "Our first convolutional layer has 32 features for each 5*5 patch. Its weight tensor will be of a shape of [5,5,1,32]. First two dimensions are the patch size, the next is the input channel and the last number is the output channel.\n",
        "\n",
        "To apply the convolutional layer, x is reshaped to 4D tensor. 28*28 is the image width and height and the final dimension is the number of color channels.\n",
        "\n",
        "Then ReLU function is applied to bring the negative values to 0 and keep the positive values as it is. Maxpool reduces the image size to 14*14.\n",
        "\n",
        "The second convolutional layer has 64 features for each 5*5 patch.\n",
        "\n",
        "Now that the image size has been reduces to 7*7 we add a fully-connected layer with 1024 neurons."
      ]
    },
    {
      "metadata": {
        "id": "VC1eGF-sYebu",
        "colab_type": "code",
        "colab": {}
      },
      "cell_type": "code",
      "source": [
        "#  Multilayer Convolutional Layer:\n",
        "\n",
        "#functions to define weights and biases to be used in the computation ahead.\n",
        "def weight_variable(shape):\n",
        "  initial = tf.truncated_normal(shape, stddev=0.1)\n",
        "  return tf.Variable(initial)\n",
        "\n",
        "def bias_variable(shape):\n",
        "  initial = tf.constant(0.1, shape=shape)\n",
        "  return tf.Variable(initial)"
      ],
      "execution_count": 0,
      "outputs": []
    },
    {
      "metadata": {
        "id": "GsAKiCaZYqbp",
        "colab_type": "code",
        "colab": {}
      },
      "cell_type": "code",
      "source": [
        "def conv2d(x, W):\n",
        "  return tf.nn.conv2d(x, W, strides=[1, 1, 1, 1], padding='SAME')\n",
        "\n",
        "def max_pool_2x2(x):\n",
        "  return tf.nn.max_pool(x, ksize=[1, 2, 2, 1],\n",
        "                        strides=[1, 2, 2, 1], padding='SAME')"
      ],
      "execution_count": 0,
      "outputs": []
    },
    {
      "metadata": {
        "id": "4pr8_dp5Y5XO",
        "colab_type": "code",
        "colab": {}
      },
      "cell_type": "code",
      "source": [
        "get_ipython().run_line_magic('pinfo', 'tf.nn.conv2d')"
      ],
      "execution_count": 0,
      "outputs": []
    },
    {
      "metadata": {
        "id": "zF0XLDakY7kz",
        "colab_type": "code",
        "colab": {}
      },
      "cell_type": "code",
      "source": [
        "#First Convolutional Layer\n",
        "W_conv1 = weight_variable([5, 5, 1, 32])\n",
        "b_conv1 = bias_variable([32])"
      ],
      "execution_count": 0,
      "outputs": []
    },
    {
      "metadata": {
        "id": "BOj4OYyoY8Gk",
        "colab_type": "code",
        "colab": {}
      },
      "cell_type": "code",
      "source": [
        "x_image = tf.reshape(x, [-1,28,28,1])"
      ],
      "execution_count": 0,
      "outputs": []
    },
    {
      "metadata": {
        "id": "NAaxHLPJY8DA",
        "colab_type": "code",
        "colab": {}
      },
      "cell_type": "code",
      "source": [
        "h_conv1 = tf.nn.relu(conv2d(x_image, W_conv1) + b_conv1)\n",
        "h_pool1 = max_pool_2x2(h_conv1)"
      ],
      "execution_count": 0,
      "outputs": []
    },
    {
      "metadata": {
        "id": "pt0oZhmwY8AY",
        "colab_type": "code",
        "colab": {}
      },
      "cell_type": "code",
      "source": [
        "#Second Convolutional Layer\n",
        "W_conv2 = weight_variable([5, 5, 32, 64])\n",
        "b_conv2 = bias_variable([64])\n",
        "\n",
        "h_conv2 = tf.nn.relu(conv2d(h_pool1, W_conv2) + b_conv2)\n",
        "h_pool2 = max_pool_2x2(h_conv2)"
      ],
      "execution_count": 0,
      "outputs": []
    },
    {
      "metadata": {
        "id": "rIjNS-GIZcSf",
        "colab_type": "code",
        "colab": {}
      },
      "cell_type": "code",
      "source": [
        "W_fc1 = weight_variable([7 * 7 * 64, 1024])\n",
        "b_fc1 = bias_variable([1024])\n",
        "\n",
        "h_pool2_flat = tf.reshape(h_pool2, [-1, 7*7*64])\n",
        "h_fc1 = tf.nn.relu(tf.matmul(h_pool2_flat, W_fc1) + b_fc1)"
      ],
      "execution_count": 0,
      "outputs": []
    },
    {
      "metadata": {
        "id": "S561Jw2GcrRz",
        "colab_type": "text"
      },
      "cell_type": "markdown",
      "source": [
        "**Dropout and Readout Layer:**\n",
        "\n",
        "To reduce overfitting we would drop some data randomly. Dropout layer thus helps in improving the accuracy of predictions. The next layer is used to read the data."
      ]
    },
    {
      "metadata": {
        "id": "KEMtVcxzZfY0",
        "colab_type": "code",
        "colab": {}
      },
      "cell_type": "code",
      "source": [
        "#Dropout Layer\n",
        "keep_prob = tf.placeholder(tf.float32)\n",
        "h_fc1_drop = tf.nn.dropout(h_fc1, keep_prob)"
      ],
      "execution_count": 0,
      "outputs": []
    },
    {
      "metadata": {
        "id": "cEeD1eLZa6SB",
        "colab_type": "code",
        "colab": {}
      },
      "cell_type": "code",
      "source": [
        ""
      ],
      "execution_count": 0,
      "outputs": []
    },
    {
      "metadata": {
        "id": "YGp11BjjZiRT",
        "colab_type": "code",
        "colab": {}
      },
      "cell_type": "code",
      "source": [
        "#Readout Layer\n",
        "\n",
        "W_fc2 = weight_variable([1024, 10])\n",
        "b_fc2 = bias_variable([10])\n",
        "\n",
        "y_conv = tf.matmul(h_fc1_drop, W_fc2) + b_fc2"
      ],
      "execution_count": 0,
      "outputs": []
    },
    {
      "metadata": {
        "id": "ecp4OAqkZmeU",
        "colab_type": "code",
        "colab": {
          "base_uri": "https://localhost:8080/",
          "height": 3590
        },
        "outputId": "04a3e75e-3cf4-4e8d-db82-54b063a54fa1"
      },
      "cell_type": "code",
      "source": [
        "with tf.Session() as sess:\n",
        "\n",
        "\n",
        "    cross_entropy = tf.reduce_mean(\n",
        "        tf.nn.softmax_cross_entropy_with_logits(labels=y_, logits=y_conv))\n",
        "    train_step = tf.train.AdamOptimizer(1e-4).minimize(cross_entropy)\n",
        "    correct_prediction = tf.equal(tf.argmax(y_conv,1), tf.argmax(y_,1))\n",
        "    accuracy = tf.reduce_mean(tf.cast(correct_prediction, tf.float32))\n",
        "    sess.run(tf.global_variables_initializer())\n",
        "\n",
        "    for i in range(20000):\n",
        "      batch = mnist.train.next_batch(50)\n",
        "      if i%100 == 0:\n",
        "        train_accuracy = accuracy.eval(feed_dict={\n",
        "            x:batch[0], y_: batch[1], keep_prob: 1.0})\n",
        "        print(\"step %d, training accuracy %g\"%(i, train_accuracy))\n",
        "      train_step.run(feed_dict={x: batch[0], y_: batch[1], keep_prob: 0.5})\n",
        "\n",
        "    print(\"test accuracy %g\"%accuracy.eval(feed_dict={\n",
        "        x: mnist.test.images, y_: mnist.test.labels, keep_prob: 1.0}))"
      ],
      "execution_count": 30,
      "outputs": [
        {
          "output_type": "stream",
          "text": [
            "WARNING:tensorflow:From <ipython-input-30-6ebe99e70f9d>:5: softmax_cross_entropy_with_logits (from tensorflow.python.ops.nn_ops) is deprecated and will be removed in a future version.\n",
            "Instructions for updating:\n",
            "\n",
            "Future major versions of TensorFlow will allow gradients to flow\n",
            "into the labels input on backprop by default.\n",
            "\n",
            "See `tf.nn.softmax_cross_entropy_with_logits_v2`.\n",
            "\n",
            "step 0, training accuracy 0.06\n",
            "step 100, training accuracy 0.84\n",
            "step 200, training accuracy 0.9\n",
            "step 300, training accuracy 0.92\n",
            "step 400, training accuracy 0.92\n",
            "step 500, training accuracy 0.94\n",
            "step 600, training accuracy 0.94\n",
            "step 700, training accuracy 0.92\n",
            "step 800, training accuracy 0.94\n",
            "step 900, training accuracy 1\n",
            "step 1000, training accuracy 0.96\n",
            "step 1100, training accuracy 0.86\n",
            "step 1200, training accuracy 1\n",
            "step 1300, training accuracy 1\n",
            "step 1400, training accuracy 0.98\n",
            "step 1500, training accuracy 0.96\n",
            "step 1600, training accuracy 1\n",
            "step 1700, training accuracy 0.92\n",
            "step 1800, training accuracy 0.94\n",
            "step 1900, training accuracy 0.96\n",
            "step 2000, training accuracy 0.98\n",
            "step 2100, training accuracy 1\n",
            "step 2200, training accuracy 0.96\n",
            "step 2300, training accuracy 0.98\n",
            "step 2400, training accuracy 0.96\n",
            "step 2500, training accuracy 1\n",
            "step 2600, training accuracy 1\n",
            "step 2700, training accuracy 1\n",
            "step 2800, training accuracy 0.96\n",
            "step 2900, training accuracy 1\n",
            "step 3000, training accuracy 1\n",
            "step 3100, training accuracy 1\n",
            "step 3200, training accuracy 0.98\n",
            "step 3300, training accuracy 1\n",
            "step 3400, training accuracy 1\n",
            "step 3500, training accuracy 0.98\n",
            "step 3600, training accuracy 0.98\n",
            "step 3700, training accuracy 0.98\n",
            "step 3800, training accuracy 1\n",
            "step 3900, training accuracy 1\n",
            "step 4000, training accuracy 0.98\n",
            "step 4100, training accuracy 0.96\n",
            "step 4200, training accuracy 1\n",
            "step 4300, training accuracy 1\n",
            "step 4400, training accuracy 1\n",
            "step 4500, training accuracy 0.98\n",
            "step 4600, training accuracy 1\n",
            "step 4700, training accuracy 0.98\n",
            "step 4800, training accuracy 0.98\n",
            "step 4900, training accuracy 0.98\n",
            "step 5000, training accuracy 1\n",
            "step 5100, training accuracy 0.96\n",
            "step 5200, training accuracy 1\n",
            "step 5300, training accuracy 0.98\n",
            "step 5400, training accuracy 1\n",
            "step 5500, training accuracy 0.98\n",
            "step 5600, training accuracy 1\n",
            "step 5700, training accuracy 1\n",
            "step 5800, training accuracy 1\n",
            "step 5900, training accuracy 0.96\n",
            "step 6000, training accuracy 1\n",
            "step 6100, training accuracy 0.94\n",
            "step 6200, training accuracy 0.98\n",
            "step 6300, training accuracy 1\n",
            "step 6400, training accuracy 1\n",
            "step 6500, training accuracy 1\n",
            "step 6600, training accuracy 1\n",
            "step 6700, training accuracy 0.98\n",
            "step 6800, training accuracy 1\n",
            "step 6900, training accuracy 0.96\n",
            "step 7000, training accuracy 1\n",
            "step 7100, training accuracy 0.96\n",
            "step 7200, training accuracy 1\n",
            "step 7300, training accuracy 1\n",
            "step 7400, training accuracy 0.98\n",
            "step 7500, training accuracy 1\n",
            "step 7600, training accuracy 1\n",
            "step 7700, training accuracy 1\n",
            "step 7800, training accuracy 0.98\n",
            "step 7900, training accuracy 1\n",
            "step 8000, training accuracy 1\n",
            "step 8100, training accuracy 0.98\n",
            "step 8200, training accuracy 0.98\n",
            "step 8300, training accuracy 1\n",
            "step 8400, training accuracy 0.98\n",
            "step 8500, training accuracy 1\n",
            "step 8600, training accuracy 0.98\n",
            "step 8700, training accuracy 1\n",
            "step 8800, training accuracy 1\n",
            "step 8900, training accuracy 1\n",
            "step 9000, training accuracy 1\n",
            "step 9100, training accuracy 1\n",
            "step 9200, training accuracy 1\n",
            "step 9300, training accuracy 0.98\n",
            "step 9400, training accuracy 0.98\n",
            "step 9500, training accuracy 1\n",
            "step 9600, training accuracy 0.98\n",
            "step 9700, training accuracy 1\n",
            "step 9800, training accuracy 1\n",
            "step 9900, training accuracy 1\n",
            "step 10000, training accuracy 1\n",
            "step 10100, training accuracy 1\n",
            "step 10200, training accuracy 1\n",
            "step 10300, training accuracy 1\n",
            "step 10400, training accuracy 1\n",
            "step 10500, training accuracy 1\n",
            "step 10600, training accuracy 1\n",
            "step 10700, training accuracy 1\n",
            "step 10800, training accuracy 1\n",
            "step 10900, training accuracy 1\n",
            "step 11000, training accuracy 1\n",
            "step 11100, training accuracy 1\n",
            "step 11200, training accuracy 1\n",
            "step 11300, training accuracy 1\n",
            "step 11400, training accuracy 1\n",
            "step 11500, training accuracy 1\n",
            "step 11600, training accuracy 1\n",
            "step 11700, training accuracy 1\n",
            "step 11800, training accuracy 1\n",
            "step 11900, training accuracy 1\n",
            "step 12000, training accuracy 1\n",
            "step 12100, training accuracy 1\n",
            "step 12200, training accuracy 1\n",
            "step 12300, training accuracy 1\n",
            "step 12400, training accuracy 0.98\n",
            "step 12500, training accuracy 1\n",
            "step 12600, training accuracy 1\n",
            "step 12700, training accuracy 0.98\n",
            "step 12800, training accuracy 1\n",
            "step 12900, training accuracy 1\n",
            "step 13000, training accuracy 1\n",
            "step 13100, training accuracy 1\n",
            "step 13200, training accuracy 1\n",
            "step 13300, training accuracy 1\n",
            "step 13400, training accuracy 1\n",
            "step 13500, training accuracy 1\n",
            "step 13600, training accuracy 1\n",
            "step 13700, training accuracy 0.98\n",
            "step 13800, training accuracy 1\n",
            "step 13900, training accuracy 1\n",
            "step 14000, training accuracy 0.98\n",
            "step 14100, training accuracy 1\n",
            "step 14200, training accuracy 0.98\n",
            "step 14300, training accuracy 0.98\n",
            "step 14400, training accuracy 1\n",
            "step 14500, training accuracy 1\n",
            "step 14600, training accuracy 1\n",
            "step 14700, training accuracy 1\n",
            "step 14800, training accuracy 1\n",
            "step 14900, training accuracy 1\n",
            "step 15000, training accuracy 1\n",
            "step 15100, training accuracy 1\n",
            "step 15200, training accuracy 1\n",
            "step 15300, training accuracy 1\n",
            "step 15400, training accuracy 1\n",
            "step 15500, training accuracy 1\n",
            "step 15600, training accuracy 1\n",
            "step 15700, training accuracy 1\n",
            "step 15800, training accuracy 1\n",
            "step 15900, training accuracy 1\n",
            "step 16000, training accuracy 0.98\n",
            "step 16100, training accuracy 1\n",
            "step 16200, training accuracy 1\n",
            "step 16300, training accuracy 1\n",
            "step 16400, training accuracy 1\n",
            "step 16500, training accuracy 1\n",
            "step 16600, training accuracy 1\n",
            "step 16700, training accuracy 1\n",
            "step 16800, training accuracy 1\n",
            "step 16900, training accuracy 1\n",
            "step 17000, training accuracy 1\n",
            "step 17100, training accuracy 1\n",
            "step 17200, training accuracy 1\n",
            "step 17300, training accuracy 1\n",
            "step 17400, training accuracy 1\n",
            "step 17500, training accuracy 1\n",
            "step 17600, training accuracy 1\n",
            "step 17700, training accuracy 1\n",
            "step 17800, training accuracy 0.98\n",
            "step 17900, training accuracy 1\n",
            "step 18000, training accuracy 1\n",
            "step 18100, training accuracy 1\n",
            "step 18200, training accuracy 1\n",
            "step 18300, training accuracy 1\n",
            "step 18400, training accuracy 1\n",
            "step 18500, training accuracy 1\n",
            "step 18600, training accuracy 0.98\n",
            "step 18700, training accuracy 1\n",
            "step 18800, training accuracy 1\n",
            "step 18900, training accuracy 1\n",
            "step 19000, training accuracy 1\n",
            "step 19100, training accuracy 1\n",
            "step 19200, training accuracy 1\n",
            "step 19300, training accuracy 1\n",
            "step 19400, training accuracy 1\n",
            "step 19500, training accuracy 1\n",
            "step 19600, training accuracy 1\n",
            "step 19700, training accuracy 1\n",
            "step 19800, training accuracy 1\n",
            "step 19900, training accuracy 1\n",
            "test accuracy 0.9923\n"
          ],
          "name": "stdout"
        }
      ]
    },
    {
      "metadata": {
        "id": "6_9XsBxUbBwN",
        "colab_type": "text"
      },
      "cell_type": "markdown",
      "source": [
        "**Final Test Accuracy: 0.9923**"
      ]
    },
    {
      "metadata": {
        "id": "yRnXu6OQbG1C",
        "colab_type": "code",
        "colab": {}
      },
      "cell_type": "code",
      "source": [
        ""
      ],
      "execution_count": 0,
      "outputs": []
    }
  ]
}