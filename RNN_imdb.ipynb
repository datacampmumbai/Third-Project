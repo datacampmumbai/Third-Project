{
  "nbformat": 4,
  "nbformat_minor": 0,
  "metadata": {
    "colab": {
      "name": "RNN_imdb.ipynb",
      "version": "0.3.2",
      "provenance": [],
      "collapsed_sections": []
    },
    "kernelspec": {
      "name": "python3",
      "display_name": "Python 3"
    },
    "accelerator": "GPU"
  },
  "cells": [
    {
      "metadata": {
        "id": "g6c6_xuW44k3",
        "colab_type": "code",
        "colab": {
          "base_uri": "https://localhost:8080/",
          "height": 748
        },
        "outputId": "1904473c-af29-464c-8460-496094210bb3"
      },
      "cell_type": "code",
      "source": [
        "import numpy as np\n",
        "from keras.datasets import imdb\n",
        "from keras.models import Sequential\n",
        "from keras.layers import Dense\n",
        "from keras.layers import CuDNNLSTM\n",
        "from keras.layers import Dropout\n",
        "from keras.layers.embeddings import Embedding\n",
        "from keras.preprocessing import sequence\n",
        "from sklearn.metrics import accuracy_score\n",
        "\n",
        "#from keras.optimizers import RMSprop\n",
        "\n",
        "# fix random seed for reproducibility\n",
        "np.random.seed(7)\n",
        "\n",
        "# load the dataset but only keep the top n words, zero the rest\n",
        "top_words = 5000\n",
        "(X_train, y_train), (X_test, y_test) = imdb.load_data(num_words=top_words)\n",
        "\n",
        "\n",
        "# truncate and pad input sequences\n",
        "max_review_length = 500\n",
        "X_train = sequence.pad_sequences(X_train, maxlen=max_review_length)\n",
        "X_test = sequence.pad_sequences(X_test, maxlen=max_review_length)\n",
        "\n",
        "\n",
        "# create the model\n",
        "embedding_vecor_length = 32\n",
        "model = Sequential()\n",
        "model.add(Embedding(top_words, embedding_vecor_length, input_length=max_review_length))\n",
        "model.add(Dropout(0.2))\n",
        "model.add(CuDNNLSTM(100))\n",
        "model.add(Dropout(0.2))\n",
        "model.add(Dense(1, activation='sigmoid'))\n",
        "\n",
        "\n",
        "#optimizer = RMSprop(lr=0.001)\n",
        "model.compile(loss='binary_crossentropy', optimizer=\"adam\", metrics=['accuracy'])\n",
        "print(model.summary())\n",
        "\n",
        "#Fit the model\n",
        "model.fit(X_train, y_train, epochs=10, batch_size=64, validation_split=0.2)\n",
        "\n",
        "accTest=model.evaluate(X_test, y_test, batch_size=64)\n",
        "print('Test set\\n  Loss: {:0.3f}\\n  Accuracy: {:0.3f}'.format(accTest[0],accTest[1]))\n"
      ],
      "execution_count": 5,
      "outputs": [
        {
          "output_type": "stream",
          "text": [
            "_________________________________________________________________\n",
            "Layer (type)                 Output Shape              Param #   \n",
            "=================================================================\n",
            "embedding_5 (Embedding)      (None, 500, 32)           160000    \n",
            "_________________________________________________________________\n",
            "dropout_9 (Dropout)          (None, 500, 32)           0         \n",
            "_________________________________________________________________\n",
            "cu_dnnlstm_5 (CuDNNLSTM)     (None, 100)               53600     \n",
            "_________________________________________________________________\n",
            "dropout_10 (Dropout)         (None, 100)               0         \n",
            "_________________________________________________________________\n",
            "dense_5 (Dense)              (None, 1)                 101       \n",
            "=================================================================\n",
            "Total params: 213,701\n",
            "Trainable params: 213,701\n",
            "Non-trainable params: 0\n",
            "_________________________________________________________________\n",
            "None\n",
            "Train on 20000 samples, validate on 5000 samples\n",
            "Epoch 1/10\n",
            "20000/20000 [==============================] - 27s 1ms/step - loss: 0.6969 - acc: 0.6117 - val_loss: 0.6624 - val_acc: 0.6224\n",
            "Epoch 2/10\n",
            "20000/20000 [==============================] - 26s 1ms/step - loss: 0.6006 - acc: 0.6836 - val_loss: 0.5673 - val_acc: 0.7192\n",
            "Epoch 3/10\n",
            "20000/20000 [==============================] - 26s 1ms/step - loss: 0.5153 - acc: 0.7551 - val_loss: 0.4462 - val_acc: 0.7990\n",
            "Epoch 4/10\n",
            "20000/20000 [==============================] - 26s 1ms/step - loss: 0.3634 - acc: 0.8462 - val_loss: 0.4339 - val_acc: 0.8230\n",
            "Epoch 5/10\n",
            "20000/20000 [==============================] - 26s 1ms/step - loss: 0.3013 - acc: 0.8791 - val_loss: 0.3691 - val_acc: 0.8472\n",
            "Epoch 6/10\n",
            "20000/20000 [==============================] - 26s 1ms/step - loss: 0.3943 - acc: 0.8371 - val_loss: 0.3975 - val_acc: 0.8366\n",
            "Epoch 7/10\n",
            "20000/20000 [==============================] - 26s 1ms/step - loss: 0.3067 - acc: 0.8807 - val_loss: 0.3755 - val_acc: 0.8504\n",
            "Epoch 8/10\n",
            "20000/20000 [==============================] - 26s 1ms/step - loss: 0.2649 - acc: 0.8956 - val_loss: 0.3783 - val_acc: 0.8468\n",
            "Epoch 9/10\n",
            "20000/20000 [==============================] - 26s 1ms/step - loss: 0.2372 - acc: 0.9088 - val_loss: 0.3659 - val_acc: 0.8456\n",
            "Epoch 10/10\n",
            "20000/20000 [==============================] - 26s 1ms/step - loss: 0.2159 - acc: 0.9188 - val_loss: 0.3487 - val_acc: 0.8588\n",
            "25000/25000 [==============================] - 11s 422us/step\n",
            "Test set\n",
            "  Loss: 0.357\n",
            "  Accuracy: 0.857\n"
          ],
          "name": "stdout"
        }
      ]
    },
    {
      "metadata": {
        "id": "M4GKQXyBNqQ9",
        "colab_type": "code",
        "colab": {
          "base_uri": "https://localhost:8080/",
          "height": 34
        },
        "outputId": "eca05afe-0bb0-4db0-b43b-34f0cb60b50d"
      },
      "cell_type": "code",
      "source": [
        "X_test.shape"
      ],
      "execution_count": 9,
      "outputs": [
        {
          "output_type": "execute_result",
          "data": {
            "text/plain": [
              "(25000, 500)"
            ]
          },
          "metadata": {
            "tags": []
          },
          "execution_count": 9
        }
      ]
    },
    {
      "metadata": {
        "id": "38e2nLQoO4Ug",
        "colab_type": "code",
        "colab": {
          "base_uri": "https://localhost:8080/",
          "height": 34
        },
        "outputId": "d28f8a62-4063-4134-d608-2267c0b7f745"
      },
      "cell_type": "code",
      "source": [
        "X_train.shape"
      ],
      "execution_count": 10,
      "outputs": [
        {
          "output_type": "execute_result",
          "data": {
            "text/plain": [
              "(25000, 500)"
            ]
          },
          "metadata": {
            "tags": []
          },
          "execution_count": 10
        }
      ]
    }
  ]
}